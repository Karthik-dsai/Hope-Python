{
 "cells": [
  {
   "cell_type": "code",
   "execution_count": 3,
   "id": "f3de1561-a8f1-464f-a63b-959d0a76433a",
   "metadata": {},
   "outputs": [
    {
     "name": "stdout",
     "output_type": "stream",
     "text": [
      "0\n",
      "1\n",
      "2\n",
      "3\n",
      "4\n",
      "5\n",
      "6\n",
      "7\n",
      "8\n",
      "9\n",
      "10\n",
      "11\n",
      "12\n",
      "13\n",
      "14\n",
      "15\n",
      "16\n",
      "17\n",
      "18\n",
      "19\n"
     ]
    }
   ],
   "source": [
    "for num in range(0,20):\n",
    "    print(num)"
   ]
  },
  {
   "cell_type": "code",
   "execution_count": 4,
   "id": "8ac0864d-d3f8-456b-8a6c-e8645846f2a8",
   "metadata": {},
   "outputs": [
    {
     "name": "stdout",
     "output_type": "stream",
     "text": [
      "10 11 12 13 14 15 16 17 18 19 "
     ]
    }
   ],
   "source": [
    "for num in range(10,20):\n",
    "    print(num, end=' ')"
   ]
  },
  {
   "cell_type": "code",
   "execution_count": 5,
   "id": "3ef90971-a781-4b15-988b-872f209486ce",
   "metadata": {},
   "outputs": [
    {
     "name": "stdout",
     "output_type": "stream",
     "text": [
      "Number of Items in the List = 7\n"
     ]
    }
   ],
   "source": [
    "numlist=[10,20,14,55,43,87,76]\n",
    "List=len(numlist)\n",
    "print(\"Number of Items in the List =\",List)"
   ]
  },
  {
   "cell_type": "code",
   "execution_count": 6,
   "id": "57d01eab-756e-492d-9467-94f85c8a1eb2",
   "metadata": {},
   "outputs": [
    {
     "name": "stdout",
     "output_type": "stream",
     "text": [
      "Artificial Intelligence\n",
      "A\n",
      "r\n",
      "t\n",
      "i\n",
      "f\n",
      "i\n",
      "c\n",
      "i\n",
      "a\n",
      "l\n",
      " \n",
      "I\n",
      "n\n",
      "t\n",
      "e\n",
      "l\n",
      "l\n",
      "i\n",
      "g\n",
      "e\n",
      "n\n",
      "c\n",
      "e\n"
     ]
    }
   ],
   "source": [
    "str=\"Artificial Intelligence\"\n",
    "print(str)\n",
    "for a in range(0,len(str)):\n",
    "    print(str[a])"
   ]
  },
  {
   "cell_type": "code",
   "execution_count": 7,
   "id": "587cf697-8209-442e-a85f-10cc8b62aa77",
   "metadata": {},
   "outputs": [
    {
     "name": "stdout",
     "output_type": "stream",
     "text": [
      "(1, 'Welcome', 2, 'Hope')\n"
     ]
    }
   ],
   "source": [
    "tuple=(1,'Welcome',2,'Hope')\n",
    "print(tuple)"
   ]
  },
  {
   "cell_type": "code",
   "execution_count": 8,
   "id": "4f91274b-93f1-4480-bf79-27238fb8e97f",
   "metadata": {},
   "outputs": [
    {
     "name": "stdout",
     "output_type": "stream",
     "text": [
      "((0, 1, 2, 3), ('Python', 'Hope'))\n"
     ]
    }
   ],
   "source": [
    "tuple1=(0,1,2,3)\n",
    "tuple2=('Python','Hope')\n",
    "tuple3=(tuple1,tuple2)\n",
    "print(tuple3)"
   ]
  },
  {
   "cell_type": "code",
   "execution_count": 12,
   "id": "846040a2-1bbe-44fe-bd26-acac88aec717",
   "metadata": {},
   "outputs": [
    {
     "name": "stdout",
     "output_type": "stream",
     "text": [
      "19 is Odd\n",
      "25 is Odd\n",
      "1 is Odd\n"
     ]
    }
   ],
   "source": [
    "numlist=(20,10,16,19,25,1,276,188)\n",
    "for a in numlist:\n",
    "    if(a%2 !=0):\n",
    "        print(a, \"is Odd\")"
   ]
  },
  {
   "cell_type": "code",
   "execution_count": 13,
   "id": "17ca37e2-4d5f-42c2-abc0-8913985c4b0a",
   "metadata": {},
   "outputs": [
    {
     "name": "stdout",
     "output_type": "stream",
     "text": [
      "20 is Even\n",
      "10 is Even\n",
      "16 is Even\n",
      "276 is Even\n",
      "188 is Even\n"
     ]
    }
   ],
   "source": [
    "numlist=(20,10,16,19,25,1,276,188)\n",
    "for a in numlist:\n",
    "    if(a%2 ==0):\n",
    "        print(a, \"is Even\")"
   ]
  },
  {
   "cell_type": "code",
   "execution_count": null,
   "id": "04da166f-db7b-4ca2-9d9f-6a5c25e8ccf6",
   "metadata": {},
   "outputs": [],
   "source": []
  }
 ],
 "metadata": {
  "kernelspec": {
   "display_name": "Python 3 (ipykernel)",
   "language": "python",
   "name": "python3"
  },
  "language_info": {
   "codemirror_mode": {
    "name": "ipython",
    "version": 3
   },
   "file_extension": ".py",
   "mimetype": "text/x-python",
   "name": "python",
   "nbconvert_exporter": "python",
   "pygments_lexer": "ipython3",
   "version": "3.11.7"
  }
 },
 "nbformat": 4,
 "nbformat_minor": 5
}
